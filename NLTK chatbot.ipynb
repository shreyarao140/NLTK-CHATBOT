{
 "cells": [
  {
   "cell_type": "code",
   "execution_count": 1,
   "id": "d09abfb8",
   "metadata": {},
   "outputs": [],
   "source": [
    "import numpy as np\n",
    "import nltk\n",
    "import string\n",
    "import random"
   ]
  },
  {
   "cell_type": "code",
   "execution_count": 2,
   "id": "1440b2dc",
   "metadata": {},
   "outputs": [],
   "source": [
    "f = open('rice.txt','r',errors ='ignore')\n",
    "raw_doc = f.read()"
   ]
  },
  {
   "cell_type": "code",
   "execution_count": 3,
   "id": "fc03c77d",
   "metadata": {},
   "outputs": [
    {
     "name": "stderr",
     "output_type": "stream",
     "text": [
      "[nltk_data] Downloading package punkt to\n",
      "[nltk_data]     C:\\Users\\shrey\\AppData\\Roaming\\nltk_data...\n",
      "[nltk_data]   Package punkt is already up-to-date!\n",
      "[nltk_data] Downloading package wordnet to\n",
      "[nltk_data]     C:\\Users\\shrey\\AppData\\Roaming\\nltk_data...\n",
      "[nltk_data]   Package wordnet is already up-to-date!\n",
      "[nltk_data] Error loading om-1.4: Package 'om-1.4' not found in index\n"
     ]
    }
   ],
   "source": [
    "raw_doc = raw_doc.lower() #converting entire text to lowercase\n",
    "nltk.download('punkt') #using the punkt tokentizer\n",
    "nltk.download('wordnet') #using the wordnet dictionary \n",
    "nltk.download('om-1.4')\n",
    "sentence_tokens = nltk.sent_tokenize(raw_doc)\n",
    "word_tokens = nltk.word_tokenize(raw_doc)\n"
   ]
  },
  {
   "cell_type": "code",
   "execution_count": 4,
   "id": "bb5919c8",
   "metadata": {},
   "outputs": [
    {
     "data": {
      "text/plain": [
       "'rice production in india is an important part of the national economy.[1]\\n\\n\\nmajor cropping areas in india. rice shaded in light jade green indicates the most important and extensive growing areas in the east of the country\\n\\ndry productive paddy fields in south india\\n\\nmature rice, thrissur, kerala, india.\\nindia is the world\\'s second-largest producer of rice, and the largest exporter of rice in the world[2].[citation needed] production increased from 53.6 million tons in fy 1980[1] to 120 million tons in fy2020-21[3].[citation needed]\\n\\n\\npaddy field\\nrice is one of the chief grains of india. moreover, this country has the largest area under rice cultivation. as it is one of the principal food crops. it is, in fact, the dominant crop of the country. india is one of the leading producers of this crop. rice is the basic food crop and being a tropical plant, it flourishes comfortably in a hot and humid climate. rice is mainly grown in rain-fed areas that receive heavy annual rainfall. that is why it is fundamentally a kharif crop in india. it demands a temperature of around 25 degrees celsius and above, and rainfall of more than 100  cm. rice is also grown through irrigation in those areas that receive comparatively less rainfall.[citation needed] rice is the staple food of eastern and southern parts of india.[1]\\n\\nrice can be cultivated by different methods based on the type of region. but in india, traditional methods are still in use for harvesting rice. the fields are initially plowed and fertilizer is applied which typically consists of cow dung, and then the field is smoothed. the seeds are transplanted by hand and then through proper irrigation, the seeds are cultivated. rice grows on a variety of soils like silts, loams and gravels. it can tolerate alkaline as well as acid soils. however, clayey loam is well suited to the raising of this crop. actually, the clayey soil can be easily converted into the mud in which rice seedlings can be transplanted easily. proper care has to be taken as this crop thrives if the soil remains wet and is underwater during its growing years. rice fields should be level and should have low mud walls for retaining water. in the plain areas, excess rainwater is allowed to inundate the rice fields and flow slowly. rice raised in the well-watered lowland areas is known as lowland or wet rice. in the hilly areas, slopes are cut into terraces for the cultivation of rice. thus, the rice grown in the hilly areas is known as dry or upland rice. the yield of upland rice per hectare is comparatively less than that of wet rice.\\n\\nthe regions cultivating this crop in india are distinguished as the western coastal strip, the eastern coastal strip, covering all the primary deltas, assam plains and surrounding low hills, foothills and terai region- along the himalayas and states like west bengal, bihar, eastern uttar pradesh, eastern madhya pradesh, northern andhra pradesh and odisha. india, being a land of the eternal growing season, and the deltas of the ganges-bramhaputra(in west bengal), kaveri river, krishna river, godavari river, indravati river and mahanadi river with a thick set-up of canal irrigation like hirakud dam and indravati dam, permits farmers to raise two, and in some pockets, even three crops a year. irrigation has made even three crops a year possible. irrigation has made it feasible even for punjab and haryana, known for their baked climate, to grow rice. they even export their excess to other states. punjab and haryana grow prized rice for export purposes. the hilly terraced fields from kashmir to assam are ideally suited for rice farming, with age-old hill irrigational conveniences. high yielding kinds, enhanced planting methods, promised irrigation water supply and mounting use of fertilizers have together led to beneficial and quick results. it is the rain fed-area that cuts down average yields per hectare.\\n\\nin some states like west bengal, assam, and orissa two crops of rice are raised in a year. the winter season in northwestern india is extremely cold for rice. rice is considered as the master crop of coastal india and in some regions of eastern india, where during the summer and monsoon seasons, both high temperature and heavy rainfall provide ideal conditions for the cultivation of rice. almost all parts of india are suitable for raising rice during the summer season provided that water is available. thus, rice is also raised even in those parts of western uttar pradesh, punjab, and haryana where low-level areas are waterlogged during the summer monsoon rainy season.\\n\\nwinter rice crop is a long duration crop and summer rice crop is a short duration crop. at some places in the eastern and southern parts of india, rice crop of short duration is followed by the rice crop of long duration. winter rice crop is raised preferably in low-lying areas that remain flooded mainly during the rainy season. autumn rice is raised in uttar pradesh, maharashtra, rajasthan, madhya pradesh, punjab, and himachal pradesh. summer, autumn, and winter rice crops are raised in west bengal, andhra pradesh, assam, and orissa. summer rice crop is raised on a small scale and a small area. however, the winter rice crop is actually the leading rice crop accounting for a major portion of the total hectare under rice in all seasons in the country. moreover, in the last few years, several steps to augment yield per hectare were taken up very seriously at all levels. india ranks fourth in the production of wheat & second in the production of rice in the world. favorable geographical condition for wheat cultivation: in india, wheat is a winter crop. wheat requires a moderately cool climate with moderate rain. in india, it is grown in winter. it needs a temperature of 10 degrees c to 15 degrees c for its cultivation. it thrives well at an average temperature of 16-degree c. warm and sunny weather is essential at the time of ripening.\\n\\nrice production by year\\nsource: http://drdpat.bih.nic.in/hs-b-table-01.htm.\\n\\nsl\\tyear\\tarea (million hectares)\\tproduction (million tonnes)\\tyield (kg/hectare)\\n1.\\t1950-51\\t30.81\\t20.58\\t668\\n2.\\t1951-52\\t29.83\\t21.30\\t714\\n3.\\t1952-53\\t29.97\\t22.90\\t764\\n4.\\t1953-54\\t31.29\\t28.21\\t902\\n5.\\t1954-55\\t30.77\\t25.22\\t820\\n6.\\t1955-56\\t31.52\\t27.56\\t874\\n7.\\t1956-57\\t32.28\\t29.04\\t900\\n8.\\t1957-58\\t32.30\\t25.53\\t790\\n9.\\t1958-59\\t33.17\\t30.85\\t930\\n10.\\t1959-60\\t33.82\\t31.68\\t937\\n11.\\t1960-61\\t34.13\\t34.58\\t1,013\\n12.\\t1961-62\\t34.69\\t35.66\\t1,028\\n13.\\t1962-63\\t35.69\\t33.21\\t931\\n14.\\t1963-64\\t35.81\\t37.00\\t1,033\\n15.\\t1964-65\\t36.46\\t39.31\\t1,078\\n16.\\t1965-66\\t35.47\\t30.59\\t862\\n17.\\t1966-67\\t35.25\\t30.44\\t863\\n18.\\t1967-68\\t36.44\\t37.61\\t1,032\\n19.\\t1968-69\\t36.97\\t39.76\\t1,076\\n20.\\t1969-70\\t37.68\\t40.43\\t1,073\\n21.\\t1970-71\\t37.59\\t42.22\\t1,123\\n22.\\t1971-72\\t37.76\\t43.07\\t1,141\\n23.\\t1972-73\\t36.69\\t39.24\\t1,070\\n24.\\t1973-74\\t38.29\\t44.05\\t1,151\\n25.\\t1974-75\\t37.89\\t39.58\\t1,045\\n26.\\t1975-76\\t39.48\\t48.74\\t1,235\\n27.\\t1976-77\\t38.51\\t41.92\\t1,088\\n28.\\t1977-78\\t40.28\\t52.67\\t1,308\\n29.\\t1978-79\\t40.48\\t53.77\\t1,328\\n30.\\t1979-80\\t39.42\\t42.33\\t1,074\\n31.\\t1980-81\\t40.15\\t53.63\\t1,336\\n32.\\t1981-82\\t40.71\\t53.25\\t1,308\\n33.\\t1982-83\\t38.26\\t47.12\\t1,231\\n34.\\t1983-84\\t41.24\\t60.10\\t1,457\\n35.\\t1984-85\\t41.16\\t58.34\\t1,417\\n36.\\t1985-86\\t41.14\\t63.83\\t1,552\\n37.\\t1986-87\\t41.17\\t60.56\\t1,471\\n38.\\t1987-88\\t38.81\\t56.86\\t1,465\\n39.\\t1988-89\\t41.73\\t70.49\\t1,689\\n40.\\t1989-90\\t42.17\\t73.57\\t1,745\\n41.\\t1990-91\\t42.69\\t74.29\\t1,740\\n42.\\t1991-92\\t42.65\\t74.68\\t1,751\\n43.\\t1992-93\\t41.78\\t72.86\\t1,744\\n44.\\t1993-94\\t42.54\\t80.30\\t1,888\\n45.\\t1994-95\\t42.81\\t81.81\\t1,911\\n46.\\t1995-96\\t42.84\\t76.98\\t1,797\\n47.\\t1996-97\\t43.43\\t81.74\\t1,882\\n48.\\t1997-98\\t43.45\\t82.53\\t1,900\\n49.\\t1998-99\\t44.80\\t86.03\\t1,920\\n50.\\t1999-00\\t44.97\\t89.48\\t1,990\\nrice production by state\\n\\nrice production by states india\\nrice production by states (million tons)[4]\\nstates\\trank\\n(2014â€“15)\\tactual production\\n(2014â€“15)\\t% of country total\\n(2014-15)\\tcumulative % of country total\\n(2014-15)\\taverage production\\n(2010-11 to 2014-15)\\testimate\\n(2015â€“16)\\nindia\\t-\\t103.73\\t100.0%\\t100%\\t105.48\\t103.61\\nwest bengal\\t1\\t14.68\\t13.9%\\t14%\\t14.54\\t16.10\\nuttar pradesh\\t2\\t12.17\\t11.5%\\t25%\\t13.45\\t12.51\\npunjab\\t3\\t11.11\\t10.5%\\t36%\\t11.03\\t11.64\\nodisha\\t4\\t8.30\\t7.9%\\t44%\\t7.17\\t5.80\\nandhra pradesh\\t5\\t7.23\\t6.9%\\t51%\\t7.34\\t6.94\\nbihar\\t6\\t6.36\\t6.0%\\t57%\\t5.93\\t6.11\\nchhattisgarh\\t7\\t6.32\\t6.0%\\t63%\\t6.37\\t6.29\\ntamil nadu\\t8\\t5.73\\t5.4%\\t68%\\t5.68\\t5.72\\nassam\\t9\\t5.22\\t4.9%\\t73%\\t4.91\\t5.12\\ntelangana\\t10\\t4.44\\t4.2%\\t77%\\t5.31\\t4.19\\nharyana\\t11\\t4.01\\t3.8%\\t81%\\t3.84\\t4.18\\nmadhya pradesh\\t12\\t3.63\\t3.4%\\t85%\\t2.65\\t3.49\\nmaharashtra\\t15\\t2.95\\t2.8%\\t94%\\t2.93\\t2.61\\ngujarat\\t16\\t1.83\\t1.7%\\t96%\\t1.66\\t1.56\\nuttarakhand\\t17\\t0.60\\t0.6%\\t96%\\t0.58\\t0.63\\nkerala\\t18\\t0.56\\t0.5%\\t97%\\t0.53\\t0.70\\njammu & kashmir\\t19\\t0.52\\t0.5%\\t97%\\t0.60\\t0.42\\nrajasthan\\t20\\t0.37\\t0.4%\\t98%\\t0.28\\t0.35\\nhimachal pradesh\\t21\\t0.13\\t0.1%\\t98%\\t0.13\\t0.10\\nothers\\t-\\t2.44\\t2.3%\\t100%\\t2.37\\t2.31\\nrice export from india\\nindia is one of the biggest exporters of rice in the world.[5][6][7]\\n\\nbasmati rice\\nindia is the leading exporter of the basmati rice to the global market.[8] in the financial year 2018-19, india exported around 4.4 million metric tons[9] of basmati rice worth usd 4.7 billion.[8]\\n\\nthe indian states with the highest areas of basmati rice under production are jammu and kashmir, himachal pradesh, punjab, haryana, delhi, uttarakhand and western uttar pradesh.[8]\\n\\nbasmati rice is major ingredient in biriyani,ghee rice in india.\\n\\nnon basmati rice\\naccording to apeda, \"any rice other than basmati rice is named as non-basmati rice.\"[10] in 2018-19, india exported 7.5 million metric tons of non-basmati rice worth usd 3 billion.[10] the main export destinations were nepal, benin, senegal, bangladesh and guinea.[10]\\n\\nreferences\\n\\nwikimedia commons has media related to paddy fields in india.\\n heitzman, james; worden, robert l., eds. (1996). \"food-crop production\". india: a country study (5th ed.). washington, d.c.: federal research division, library of congress. pp. 406â€“407. isbn 0-8444-0833-6. oclc 34598209. public domain this article incorporates text from this source, which is in the public domain.\\n \"india becomes world\\'s largest exporter of rice: list of top exporters\". india today. 28 january 2016. retrieved 12 october 2021.\\n \"food grain production estimated to reach new high of 150 million tonnes in 2021-22: centre\". the indian express. 22 september 2021. retrieved 12 october 2021.\\n \"state-wise production of rice from 2010-11 to 2014-15 (from: ministry of agriculture and farmers welfare)\". 20 july 2016.\\n \"rice exports by country\". world\\'s top exports. 2020-01-12. retrieved 2020-02-01.\\n \"largest exporter of rice worldwide 2019\". statista. retrieved 2020-02-01.\\n \"oec - rice (hs92: 1006) product trade, exporters and importers\". oec.world. retrieved 2020-02-01.\\n \"basmati rice\". apeda.gov.in. retrieved 2020-02-02.\\n \"rice export from india\". drdpat.bih.nic.in. retrieved 2020-02-02.\\n \"non basmati rice\". apeda.gov.in. retrieved 2020-02-02.\\nvte\\n'"
      ]
     },
     "execution_count": 4,
     "metadata": {},
     "output_type": "execute_result"
    }
   ],
   "source": [
    "raw_doc"
   ]
  },
  {
   "cell_type": "code",
   "execution_count": 5,
   "id": "1abb79a0",
   "metadata": {},
   "outputs": [],
   "source": [
    "sentence_tokens = nltk.sent_tokenize(raw_doc)\n",
    "word_tokens = nltk.word_tokenize(raw_doc)"
   ]
  },
  {
   "cell_type": "code",
   "execution_count": 6,
   "id": "1e1910f0",
   "metadata": {},
   "outputs": [],
   "source": [
    "lemmer = nltk.stem.WordNetLemmatizer()\n",
    "def LemTokens(tokens):\n",
    "    return[lemmer.lemmatize(token) for token in tokens]\n",
    "remove_punc_dict = dict((ord(punct), None) for punct in string.punctuation)\n",
    "def LemNormalize(text):\n",
    "    return LemTokens(nltk.word_tokenize(text.lower().translate(remove_punc_dict)))"
   ]
  },
  {
   "cell_type": "code",
   "execution_count": 7,
   "id": "24c457e1",
   "metadata": {},
   "outputs": [],
   "source": [
    "greet_inputs = ('hello','hi','how can i hep you')\n",
    "greet_responses = ('hi','hey','hey there!')\n",
    "def greet(sentence):\n",
    "    for word in sentence.split():\n",
    "        if word.lower()in greet_inputs:\n",
    "            return random.choice(greet_responses)\n",
    "        "
   ]
  },
  {
   "cell_type": "code",
   "execution_count": 8,
   "id": "01221233",
   "metadata": {},
   "outputs": [],
   "source": [
    "from sklearn.feature_extraction.text import TfidfVectorizer\n",
    "from sklearn.metrics.pairwise import cosine_similarity"
   ]
  },
  {
   "cell_type": "code",
   "execution_count": 9,
   "id": "fc9f3111",
   "metadata": {},
   "outputs": [],
   "source": [
    "def response(user_response):\n",
    "    robo1_response =  ''\n",
    "    TfidfVec = TfidfVectorizer(tokenizer = LemNormalize, stop_words = 'english')\n",
    "    tfidf = TfidfVec.fit_transform(sentence_tokens)\n",
    "    vals = cosine_similarity(tfidf[-1], tfidf)\n",
    "    idx =  vals.argsort()[0][-2]\n",
    "    flat= vals.flatten()\n",
    "    flat.sort()\n",
    "    req_tfidf = flat[-2]\n",
    "    if (req_tfidf == 0):\n",
    "        robo1_response = robo1_response + \"I am sorry. Unable to understande you!\"\n",
    "        return robo1_robo1_response\n",
    "    else:\n",
    "        robo1_response = robo1_response + sentence_tokens[idx]\n",
    "        return robo1_response"
   ]
  },
  {
   "cell_type": "code",
   "execution_count": null,
   "id": "f95d7d1e",
   "metadata": {},
   "outputs": [
    {
     "name": "stderr",
     "output_type": "stream",
     "text": [
      "[nltk_data] Downloading package punkt to\n",
      "[nltk_data]     C:\\Users\\shrey\\AppData\\Roaming\\nltk_data...\n",
      "[nltk_data]   Package punkt is already up-to-date!\n"
     ]
    },
    {
     "name": "stdout",
     "output_type": "stream",
     "text": [
      "hello, I am the krushi mitra bot. start typing your text after greeting to talk to me\n"
     ]
    }
   ],
   "source": [
    "import nltk\n",
    "nltk.download('punkt')\n",
    "\n",
    "flag = True\n",
    "print('hello, I am the krushi mitra bot. start typing your text after greeting to talk to me')\n",
    "while flag:\n",
    "    user_response = input()\n",
    "    user_response = user_response.lower()\n",
    "    if user_response != 'bye':\n",
    "        if user_response == 'thank you' or user_response == 'thanks':\n",
    "            flag = False\n",
    "            print('bot: you are welcome..')\n",
    "        else:\n",
    "            if greet(user_response) is not None:\n",
    "                print('bot: ' + greet(user_response))\n",
    "            else:\n",
    "                sentence_tokens.append(user_response)\n",
    "                word_tokens = word_tokens + nltk.word_tokenize(user_response)\n",
    "                final_words = list(set(word_tokens))\n",
    "                print('bot:', end='')\n",
    "                print(response(user_response))\n",
    "                sentence_tokens.remove(user_response)\n",
    "    else:\n",
    "        flag = False\n",
    "        print('bot: Goodbye!')\n"
   ]
  },
  {
   "cell_type": "code",
   "execution_count": null,
   "id": "4080a30c",
   "metadata": {},
   "outputs": [],
   "source": []
  }
 ],
 "metadata": {
  "kernelspec": {
   "display_name": "Python 3 (ipykernel)",
   "language": "python",
   "name": "python3"
  },
  "language_info": {
   "codemirror_mode": {
    "name": "ipython",
    "version": 3
   },
   "file_extension": ".py",
   "mimetype": "text/x-python",
   "name": "python",
   "nbconvert_exporter": "python",
   "pygments_lexer": "ipython3",
   "version": "3.10.4"
  }
 },
 "nbformat": 4,
 "nbformat_minor": 5
}
